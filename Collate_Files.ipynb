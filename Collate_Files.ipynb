{
 "cells": [
  {
   "cell_type": "code",
   "execution_count": null,
   "metadata": {},
   "outputs": [],
   "source": [
    "import os\n",
    "import pandas as pd\n",
    "import numpy as np"
   ]
  },
  {
   "cell_type": "code",
   "execution_count": null,
   "metadata": {},
   "outputs": [],
   "source": [
    "#[ACTION]:Set the path to required folder contains files those need to merge\n",
    "data_dir = 'C:\\\\Users\\\\stsc.LNVO-126957\\\\Data Analytics\\\\Web Scraping\\\\Data\\\\New Listings'\n",
    "all_files_name = os.listdir(data_dir)"
   ]
  },
  {
   "cell_type": "code",
   "execution_count": null,
   "metadata": {},
   "outputs": [],
   "source": [
    "#check the files present in the folder\n",
    "all_files_name"
   ]
  },
  {
   "cell_type": "code",
   "execution_count": null,
   "metadata": {},
   "outputs": [],
   "source": [
    "count_of_files = 1\n",
    "\n",
    "df_final = pd.read_excel(data_dir + \"\\\\\" + all_files_name[0])\n",
    "if df_final.columns[0] == 'Unnamed: 0':\n",
    "    df_final = df_final.drop('Unnamed: 0',axis=1) #removing index column if its there\n",
    "\n",
    "\n",
    "for i in range(len(all_files_name)-1):\n",
    "    df = pd.read_excel(data_dir + \"\\\\\" + all_files_name[i+1])\n",
    "    if df.columns[0] == 'Unnamed: 0': #removing index column if its there\n",
    "        df = df.drop('Unnamed: 0',axis=1)\n",
    "    df_final = df_final.append(df,ignore_index=True)\n",
    "    count_of_files = 1 + count_of_files\n",
    "\n",
    "print(\"%d files appended\"%count_of_files)\n",
    "            "
   ]
  },
  {
   "cell_type": "code",
   "execution_count": null,
   "metadata": {},
   "outputs": [],
   "source": [
    "#check the length of the final dataframe\n",
    "len(df_final)"
   ]
  },
  {
   "cell_type": "code",
   "execution_count": null,
   "metadata": {},
   "outputs": [],
   "source": [
    "def write_in_excel_final(df_final):\n",
    "    writer=pd.ExcelWriter('Redfin_NewListing_Collated.xlsx') \n",
    "    df_final.to_excel(writer,'NewListing',index=False)\n",
    "    writer.save()"
   ]
  },
  {
   "cell_type": "code",
   "execution_count": null,
   "metadata": {},
   "outputs": [],
   "source": [
    "write_in_excel_final(df_final)"
   ]
  }
 ],
 "metadata": {
  "kernelspec": {
   "display_name": "Python 3",
   "language": "python",
   "name": "python3"
  },
  "language_info": {
   "codemirror_mode": {
    "name": "ipython",
    "version": 3
   },
   "file_extension": ".py",
   "mimetype": "text/x-python",
   "name": "python",
   "nbconvert_exporter": "python",
   "pygments_lexer": "ipython3",
   "version": "3.7.3"
  }
 },
 "nbformat": 4,
 "nbformat_minor": 2
}
